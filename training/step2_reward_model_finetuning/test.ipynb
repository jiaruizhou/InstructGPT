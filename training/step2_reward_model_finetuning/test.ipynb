{
 "cells": [
  {
   "cell_type": "code",
   "execution_count": 4,
   "metadata": {},
   "outputs": [
    {
     "name": "stderr",
     "output_type": "stream",
     "text": [
      "/opt/conda/lib/python3.10/site-packages/tqdm/auto.py:21: TqdmWarning: IProgress not found. Please update jupyter and ipywidgets. See https://ipywidgets.readthedocs.io/en/stable/user_install.html\n",
      "  from .autonotebook import tqdm as notebook_tqdm\n"
     ]
    },
    {
     "name": "stdout",
     "output_type": "stream",
     "text": [
      "[2024-05-08 02:42:58,375] [INFO] [real_accelerator.py:161:get_accelerator] Setting ds_accelerator to cuda (auto detect)\n"
     ]
    }
   ],
   "source": [
    "from dschat.utils.data.data_utils import create_retrieval_dataset, DataCollatorRetrieval\n",
    "from dschat.utils.utils import print_rank_0, to_device, save_hf_format, set_random_seed, get_all_reduce_mean, get_optimizer_grouped_parameters, save_zero_three_model, load_hf_tokenizer"
   ]
  },
  {
   "cell_type": "code",
   "execution_count": 5,
   "metadata": {},
   "outputs": [],
   "source": [
    "tokenizer = load_hf_tokenizer(\"/aiarena/gpfs/hugging-face/meta-llama/Llama-2-7b-hf\",\n",
    "                                fast_tokenizer=True,\n",
    "                                add_special_tokens=None)"
   ]
  },
  {
   "cell_type": "code",
   "execution_count": 15,
   "metadata": {},
   "outputs": [],
   "source": [
    "train_dataset, eval_dataset=create_retrieval_dataset(-1,\n",
    "                            [\"/aiarena/gpfs/data/MSMARCO\"],\n",
    "                            \"/aiarena/gpfs/DeepSpeed-Chat/training/step2_reward_model_finetuning/tmp/marco_data\",\n",
    "                            1234,\n",
    "                            tokenizer,\n",
    "                            256)"
   ]
  },
  {
   "cell_type": "code",
   "execution_count": 1,
   "metadata": {},
   "outputs": [],
   "source": [
    "import torch"
   ]
  },
  {
   "cell_type": "code",
   "execution_count": 2,
   "metadata": {},
   "outputs": [
    {
     "data": {
      "text/plain": [
       "False"
      ]
     },
     "execution_count": 2,
     "metadata": {},
     "output_type": "execute_result"
    }
   ],
   "source": [
    "torch.distributed.is_available() and torch.distributed.is_initialized()"
   ]
  },
  {
   "cell_type": "code",
   "execution_count": 13,
   "metadata": {},
   "outputs": [],
   "source": [
    "import hashlib\n",
    "\n",
    "tokenizer_name = tokenizer.init_kwargs[\"name_or_path\"].replace(\"/\", \"_\")\n",
    "fname = f\"/aiarena/gpfs/data/MSMARCO/_seed1234_tokenizer{tokenizer_name}_seqlen256\""
   ]
  },
  {
   "cell_type": "code",
   "execution_count": 14,
   "metadata": {},
   "outputs": [
    {
     "name": "stdout",
     "output_type": "stream",
     "text": [
      "_aiarena_gpfs_data_MSMARCO__seed1234_tokenizer_aiarena_gpfs_hugging-face_meta-llama_Llama-2-7b-hf_seqlen256\n"
     ]
    }
   ],
   "source": [
    "fname = \"_\".join(fname.split(\"/\"))\n",
    "print(fname)\n",
    "fname = hashlib.sha256(fname.encode()).hexdigest(\n",
    ")  # hash the file name to avoid too long file name"
   ]
  },
  {
   "cell_type": "code",
   "execution_count": 9,
   "metadata": {},
   "outputs": [
    {
     "data": {
      "text/plain": [
       "'103f44bcb2fc9da6c6737a877990ae40753c4807de25904079427858d5b5ff84'"
      ]
     },
     "execution_count": 9,
     "metadata": {},
     "output_type": "execute_result"
    }
   ],
   "source": [
    "fname"
   ]
  },
  {
   "cell_type": "code",
   "execution_count": 10,
   "metadata": {},
   "outputs": [
    {
     "data": {
      "text/plain": [
       "'_aiarena_gpfs_hugging-face_meta-llama_Llama-2-7b-hf'"
      ]
     },
     "execution_count": 10,
     "metadata": {},
     "output_type": "execute_result"
    }
   ],
   "source": [
    "tokenizer_name"
   ]
  },
  {
   "cell_type": "code",
   "execution_count": null,
   "metadata": {},
   "outputs": [],
   "source": []
  }
 ],
 "metadata": {
  "kernelspec": {
   "display_name": "base",
   "language": "python",
   "name": "python3"
  },
  "language_info": {
   "codemirror_mode": {
    "name": "ipython",
    "version": 3
   },
   "file_extension": ".py",
   "mimetype": "text/x-python",
   "name": "python",
   "nbconvert_exporter": "python",
   "pygments_lexer": "ipython3",
   "version": "3.10.13"
  },
  "orig_nbformat": 4
 },
 "nbformat": 4,
 "nbformat_minor": 2
}
